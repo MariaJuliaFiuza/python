{
  "nbformat": 4,
  "nbformat_minor": 0,
  "metadata": {
    "colab": {
      "provenance": [],
      "authorship_tag": "ABX9TyOq91j3Rpb3pJZBISDbJqYi",
      "include_colab_link": true
    },
    "kernelspec": {
      "name": "python3",
      "display_name": "Python 3"
    },
    "language_info": {
      "name": "python"
    }
  },
  "cells": [
    {
      "cell_type": "markdown",
      "metadata": {
        "id": "view-in-github",
        "colab_type": "text"
      },
      "source": [
        "<a href=\"https://colab.research.google.com/github/MariaJuliaFiuza/python/blob/main/aula_pithon.ipynb\" target=\"_parent\"><img src=\"https://colab.research.google.com/assets/colab-badge.svg\" alt=\"Open In Colab\"/></a>"
      ]
    },
    {
      "cell_type": "markdown",
      "source": [
        "#**aula 1** ⏰ ❤ ✳"
      ],
      "metadata": {
        "id": "s8NVJ4u-xB7t"
      }
    },
    {
      "cell_type": "code",
      "execution_count": null,
      "metadata": {
        "id": "ZtsRguubxP9d",
        "colab": {
          "base_uri": "https://localhost:8080/"
        },
        "outputId": "9c356ffa-6be1-4f46-b6c0-5f394bec7023"
      },
      "outputs": [
        {
          "output_type": "stream",
          "name": "stdout",
          "text": [
            "I competição de programação dá Start\n",
            "IX competição de programação da Start\n",
            "IX competição de programação da Start\n"
          ]
        }
      ],
      "source": [
        "print(\"I competição de programação dá Start\")\n",
        "ano = \"IX\"\n",
        "print(ano, \"competição de programação da Start\")\n",
        "print(f\"{ano} competição de programação da Start\")"
      ]
    },
    {
      "cell_type": "markdown",
      "source": [
        "#**aula 2** ☑ ✅ ♥"
      ],
      "metadata": {
        "id": "40-BaBSg02R2"
      }
    },
    {
      "cell_type": "code",
      "source": [
        "livro_ficcao = 8\n",
        "livro_n_ficcao = 10\n",
        "livro_infantil = 6\n",
        "pontos_rodrigo = livro_ficcao + livro_n_ficcao + livro_infantil\n",
        "print(f\"Os pontos totais do Rodrigo são {pontos_rodrigo}\")"
      ],
      "metadata": {
        "id": "NYd3l5cP08x3",
        "colab": {
          "base_uri": "https://localhost:8080/"
        },
        "outputId": "441deede-9791-46f1-b8cf-a35c9f86c0a5"
      },
      "execution_count": null,
      "outputs": [
        {
          "output_type": "stream",
          "name": "stdout",
          "text": [
            "Os pontos totais do Rodrigo são 24\n"
          ]
        }
      ]
    },
    {
      "cell_type": "markdown",
      "source": [
        "#**aula** 3 ❄ ☘ ✍"
      ],
      "metadata": {
        "id": "QCWV7yXkmu6q"
      }
    },
    {
      "cell_type": "code",
      "source": [
        "numero_de_alunos = int(input(\"Digite a quantidade de alunos: \"))\n",
        "numero_de_monitores = int(input(\"Digite a quantidade de monitores: \"))\n",
        "numero_de_professores = 8\n",
        "if numero_de_alunos + numero_de_monitores + numero_de_professores <= 50:\n",
        "  resposta_positiva = \"pode ir\"\n",
        "resposta_negativa = \"não pode ir\"\n",
        "if numero_de_alunos + numero_de_monitores + numero_de_professores <= 50:\n",
        " print(resposta_positiva)\n",
        "else:\n",
        "\n",
        " print(resposta_negativa)"
      ],
      "metadata": {
        "id": "jGqEpuFomxQC",
        "colab": {
          "base_uri": "https://localhost:8080/"
        },
        "outputId": "11693612-6610-4472-8794-65b1827c1d38"
      },
      "execution_count": null,
      "outputs": [
        {
          "output_type": "stream",
          "name": "stdout",
          "text": [
            "Digite a quantidade de alunos: 5\n",
            "Digite a quantidade de monitores: 40\n",
            "não pode ir\n"
          ]
        }
      ]
    },
    {
      "cell_type": "markdown",
      "source": [
        "#**aula** 4 ✅ ✴ ❣"
      ],
      "metadata": {
        "id": "hW24CO0xn0wB"
      }
    },
    {
      "cell_type": "code",
      "source": [
        "P = int(input(\"Digite a posição da porta P (0 ou 1): \"))\n",
        "R = int(input(\"Digite a posição da porta R (0 ou 1): \"))\n",
        "if P == 0:\n",
        "    print(\"C\")\n",
        "elif R == 1:\n",
        "    print(\"A\")\n",
        "else:\n",
        "    print(\"B\")\n"
      ],
      "metadata": {
        "colab": {
          "base_uri": "https://localhost:8080/"
        },
        "id": "OaDQe-6A2K21",
        "outputId": "16ed1db2-ec94-4503-aa33-a92945ff6755"
      },
      "execution_count": null,
      "outputs": [
        {
          "output_type": "stream",
          "name": "stdout",
          "text": [
            "Digite a posição da porta P (0 ou 1): 1\n",
            "Digite a posição da porta R (0 ou 1): 0\n",
            "B\n"
          ]
        }
      ]
    },
    {
      "cell_type": "markdown",
      "source": [
        "#**aula 5** ⚗ ⚓ ✈ tabuada"
      ],
      "metadata": {
        "id": "Qj6tGfYn6s-2"
      }
    },
    {
      "cell_type": "code",
      "source": [
        "def tabuada(numero):\n",
        "    for contador in range(1, 11):  # Gera números de 1 a 10\n",
        "        print(f\"{numero} x {contador} = {numero * contador}\")\n",
        "numero = int(input(\"Digite um número para ver sua tabuada: \"))\n",
        "tabuada(numero)"
      ],
      "metadata": {
        "colab": {
          "base_uri": "https://localhost:8080/"
        },
        "id": "Q5tBEpkm6q5K",
        "outputId": "14ec7348-c445-4980-f47f-c1e1cbdeddea"
      },
      "execution_count": null,
      "outputs": [
        {
          "output_type": "stream",
          "name": "stdout",
          "text": [
            "Digite um número para ver sua tabuada: 6\n",
            "6 x 1 = 6\n",
            "6 x 2 = 12\n",
            "6 x 3 = 18\n",
            "6 x 4 = 24\n",
            "6 x 5 = 30\n",
            "6 x 6 = 36\n",
            "6 x 7 = 42\n",
            "6 x 8 = 48\n",
            "6 x 9 = 54\n",
            "6 x 10 = 60\n"
          ]
        }
      ]
    },
    {
      "cell_type": "markdown",
      "source": [
        "#**aula 6** IMC"
      ],
      "metadata": {
        "id": "Et7oiib183XT"
      }
    },
    {
      "cell_type": "code",
      "source": [
        "peso = float(input(\"Digite seu peso (em kg): \"))\n",
        "altura = float(input(\"Digite sua altura (em metros): \"))\n",
        "imc = peso / (altura ** 2)\n",
        "print(f\"\\nSeu IMC é: {imc:.2f}\")\n",
        "if imc < 18.5:\n",
        "    print(\"Você está abaixo do peso.\")\n",
        "elif 18.5 <= imc < 25:\n",
        "    print(\"Você está no peso ideal.\")\n",
        "elif 25 <= imc < 30:\n",
        "    print(\"Você está com sobrepeso.\")\n",
        "else:\n",
        "    print(\"Você está acima do peso.\")"
      ],
      "metadata": {
        "colab": {
          "base_uri": "https://localhost:8080/"
        },
        "id": "v-1kWZkr8_in",
        "outputId": "58663d23-cd59-48a4-c92c-e937d7cf02cf"
      },
      "execution_count": null,
      "outputs": [
        {
          "output_type": "stream",
          "name": "stdout",
          "text": [
            "Digite seu peso (em kg): 42\n",
            "Digite sua altura (em metros): 1.56\n",
            "\n",
            "Seu IMC é: 17.26\n",
            "Você está abaixo do peso.\n"
          ]
        }
      ]
    },
    {
      "cell_type": "markdown",
      "source": [
        "#aula7 * ✔ ❤"
      ],
      "metadata": {
        "id": "2sgpjyYJ188u"
      }
    },
    {
      "cell_type": "code",
      "source": [
        "print(\"Sou sua assistente virtual. como posso ajudar? \\n\")\n",
        "nome = input(\"Digite seu nome: \")\n",
        "print(\"Olá,\" + nome + \". Qual é sua dúvida hoje?\")"
      ],
      "metadata": {
        "colab": {
          "base_uri": "https://localhost:8080/"
        },
        "id": "74THPsXR2QQC",
        "outputId": "6805e345-7871-40d1-eb97-5a5490ef312c"
      },
      "execution_count": null,
      "outputs": [
        {
          "output_type": "stream",
          "name": "stdout",
          "text": [
            "Sou sua assistente virtual. como posso ajudar? \n",
            "\n",
            "Digite seu nome: Julia\n",
            "Olá,Julia. Qual é sua dúvida hoje?\n"
          ]
        }
      ]
    },
    {
      "cell_type": "code",
      "source": [
        "print(\"Sou sua assistente virtual. como posso ajudar? \\n\")\n",
        "nome = input(\"Digite seu nome: \")\n",
        "print(f\"Olá, {nome}  . Qual é sua dúvida hoje?\")\n",
        "resposta = input(\"Qual o assunto que deseja tratar: Matemática , Python , Javascript  \").lower()\n",
        "print(f\"Que bom, {nome}, vamos falar sobre {resposta} \")"
      ],
      "metadata": {
        "colab": {
          "base_uri": "https://localhost:8080/"
        },
        "id": "WV1wj9y4-UYT",
        "outputId": "92ca9af1-4dcf-421e-9868-4e6c9915a9fd"
      },
      "execution_count": null,
      "outputs": [
        {
          "output_type": "stream",
          "name": "stdout",
          "text": [
            "Sou sua assistente virtual. como posso ajudar? \n",
            "\n",
            "Digite seu nome: Julia\n",
            "Olá, Julia  . Qual é sua dúvida hoje?\n",
            "Qual o assunto que deseja tratar: Matemática , Python , Javascript  PyThOn\n",
            "Que bom, Julia, vamos falar sobre python \n"
          ]
        }
      ]
    }
  ]
}